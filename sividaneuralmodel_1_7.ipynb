{
  "nbformat": 4,
  "nbformat_minor": 0,
  "metadata": {
    "colab": {
      "provenance": [],
      "authorship_tag": "ABX9TyM1ZlJlIFgVUm4AqaXPCjSI",
      "include_colab_link": true
    },
    "kernelspec": {
      "name": "python3",
      "display_name": "Python 3"
    },
    "language_info": {
      "name": "python"
    }
  },
  "cells": [
    {
      "cell_type": "markdown",
      "metadata": {
        "id": "view-in-github",
        "colab_type": "text"
      },
      "source": [
        "<a href=\"https://colab.research.google.com/github/WillianRullian/SIVIDA/blob/main/sividaneuralmodel_1_7.ipynb\" target=\"_parent\"><img src=\"https://colab.research.google.com/assets/colab-badge.svg\" alt=\"Open In Colab\"/></a>"
      ]
    },
    {
      "cell_type": "code",
      "execution_count": null,
      "metadata": {
        "id": "575TZbKoQIn7"
      },
      "outputs": [],
      "source": [
        "# Bibliotecas de manipulação de dados\n",
        "import sqlite3\n",
        "import pandas as pd\n",
        "import numpy as np\n",
        "from datetime import datetime\n",
        "\n",
        "# Bibliotecas para visualização\n",
        "import matplotlib.pyplot as plt\n",
        "import seaborn as sns\n",
        "\n",
        "# Bibliotecas para machine learning\n",
        "from sklearn.model_selection import train_test_split\n",
        "from sklearn.preprocessing import StandardScaler\n",
        "from sklearn.utils.class_weight import compute_class_weight\n",
        "from sklearn.metrics import classification_report, confusion_matrix, roc_auc_score\n",
        "\n",
        "# Bibliotecas para redes neurais (Keras/TensorFlow)\n",
        "from tensorflow.keras.models import Sequential\n",
        "from tensorflow.keras.layers import LSTM, Dense, Dropout, Input\n",
        "from tensorflow.keras.optimizers import Adam\n",
        "from tensorflow.keras.callbacks import EarlyStopping\n",
        "\n",
        "# Bibliotecas adicionais\n",
        "import random\n"
      ]
    },
    {
      "cell_type": "code",
      "source": [
        "\n",
        "class EnvironmentalMonitor:\n",
        "    def __init__(self, db_name=\"environment_data.db\"):\n",
        "        \"\"\"Inicializa o monitor de ambiente, configurando o banco de dados.\"\"\"\n",
        "        self.db_name = db_name\n",
        "        self.create_or_update_table()\n",
        "\n",
        "    def create_or_update_table(self):\n",
        "        \"\"\"Cria ou atualiza a tabela 'environment' no banco de dados.\"\"\"\n",
        "        connection = sqlite3.connect(self.db_name)\n",
        "        cursor = connection.cursor()\n",
        "        cursor.execute(\"\"\"\n",
        "            CREATE TABLE IF NOT EXISTS environment (\n",
        "                id INTEGER PRIMARY KEY AUTOINCREMENT,\n",
        "                timestamp TEXT NOT NULL,\n",
        "                temperature REAL,\n",
        "                humidity REAL,\n",
        "                co2 REAL,\n",
        "                tvoc REAL,\n",
        "                air_quality TEXT\n",
        "            )\n",
        "        \"\"\")\n",
        "        connection.commit()\n",
        "        connection.close()\n",
        "\n",
        "    def read_sensors(self):\n",
        "        \"\"\"Simula a leitura dos sensores com dados realistas.\"\"\"\n",
        "        temperature = random.uniform(18.0, 30.0)  # Temperatura realista\n",
        "        humidity = random.uniform(40.0, 80.0)    # Umidade realista\n",
        "        co2 = random.uniform(400, 500)            # CO2 em ppm realista\n",
        "        tvoc = random.uniform(0, 1.5)             # TVOC em mg/m³ realista\n",
        "\n",
        "        # Definir qualidade do ar com base na temperatura e umidade\n",
        "        if temperature < 25 and humidity > 50:\n",
        "            air_quality = \"Bom\"\n",
        "        elif temperature >= 25 and humidity < 50:\n",
        "            air_quality = \"Ruim\"\n",
        "        else:\n",
        "            air_quality = \"Bom\"\n",
        "\n",
        "        return {\n",
        "            \"timestamp\": datetime.now().strftime(\"%Y-%m-%d %H:%M:%S\"),\n",
        "            \"temperature\": round(temperature, 2),\n",
        "            \"humidity\": round(humidity, 2),\n",
        "            \"co2\": round(co2, 2),\n",
        "            \"tvoc\": round(tvoc, 2),\n",
        "            \"air_quality\": air_quality\n",
        "        }\n",
        "\n",
        "    def save_to_database(self, data):\n",
        "        \"\"\"Salva os dados coletados no banco de dados.\"\"\"\n",
        "        connection = sqlite3.connect(self.db_name)\n",
        "        cursor = connection.cursor()\n",
        "        cursor.execute(\"\"\"\n",
        "            INSERT INTO environment (timestamp, temperature, humidity, co2, tvoc, air_quality)\n",
        "            VALUES (?, ?, ?, ?, ?, ?)\n",
        "        \"\"\", (data['timestamp'], data['temperature'], data['humidity'], data['co2'], data['tvoc'], data['air_quality']))\n",
        "        connection.commit()\n",
        "        connection.close()\n",
        "\n",
        "    def get_data_as_dataframe(self):\n",
        "        \"\"\"Recupera os dados do banco de dados como um DataFrame.\"\"\"\n",
        "        connection = sqlite3.connect(self.db_name)\n",
        "        query = \"SELECT * FROM environment\"\n",
        "        df = pd.read_sql_query(query, connection)\n",
        "        connection.close()\n",
        "        return df\n",
        "\n",
        "    def collect_multiple_samples(self, num_samples=100):\n",
        "        \"\"\"Coleta múltiplas amostras e as armazena no banco de dados.\"\"\"\n",
        "        for _ in range(num_samples):\n",
        "            data = self.read_sensors()\n",
        "            if data:\n",
        "                self.save_to_database(data)\n",
        "\n",
        "    def clear_database(self):\n",
        "        \"\"\"Limpa todos os dados do banco de dados.\"\"\"\n",
        "        connection = sqlite3.connect(self.db_name)\n",
        "        cursor = connection.cursor()\n",
        "        cursor.execute(\"DELETE FROM environment\")\n",
        "        connection.commit()\n",
        "        connection.close()\n",
        "\n",
        "# Testando a classe\n",
        "monitor = EnvironmentalMonitor()\n",
        "monitor.clear_database()  # Limpar dados antigos, se necessário\n",
        "monitor.collect_multiple_samples(num_samples=1000)  # Coletar novas amostras\n",
        "df = monitor.get_data_as_dataframe()\n",
        "print(f\"Total de amostras coletadas: {len(df)}\")\n",
        "print(df.head())  # Verificar as primeiras amostras para garantir que estão no formato esperado\n",
        "\n"
      ],
      "metadata": {
        "colab": {
          "base_uri": "https://localhost:8080/"
        },
        "id": "XC5SkTAAQJfl",
        "outputId": "60d26b0d-a91d-40ab-a50a-e333bb62544d"
      },
      "execution_count": null,
      "outputs": [
        {
          "output_type": "stream",
          "name": "stdout",
          "text": [
            "Total de amostras coletadas: 1000\n",
            "      id            timestamp  temperature  humidity air_quality     co2  tvoc\n",
            "0  37102  2024-11-25 01:19:36        22.49     49.96         Bom  434.79  1.07\n",
            "1  37103  2024-11-25 01:19:36        21.60     55.22         Bom  477.73  0.10\n",
            "2  37104  2024-11-25 01:19:36        19.52     41.67         Bom  438.02  0.61\n",
            "3  37105  2024-11-25 01:19:36        28.43     70.03         Bom  494.97  1.09\n",
            "4  37106  2024-11-25 01:19:36        18.43     77.96         Bom  447.66  1.22\n"
          ]
        }
      ]
    },
    {
      "cell_type": "code",
      "source": [
        "def remove_outliers_iqr(dataframe, columns, threshold=1.5):\n",
        "    \"\"\"\n",
        "    Remove outliers de um DataFrame com base no método IQR.\n",
        "\n",
        "    Parâmetros:\n",
        "        dataframe (pd.DataFrame): O DataFrame original.\n",
        "        columns (list): Lista de colunas a serem analisadas para remoção de outliers.\n",
        "        threshold (float): Multiplicador do IQR para definir limites (default: 1.5).\n",
        "\n",
        "    Retorna:\n",
        "        pd.DataFrame: DataFrame sem os outliers.\n",
        "    \"\"\"\n",
        "    df_cleaned = dataframe.copy()\n",
        "\n",
        "    for column in columns:\n",
        "        Q1 = dataframe[column].quantile(0.25)  # Primeiro quartil (25%)\n",
        "        Q3 = dataframe[column].quantile(0.75)  # Terceiro quartil (75%)\n",
        "        IQR = Q3 - Q1  # Intervalo Interquartil\n",
        "\n",
        "        # Limites inferior e superior\n",
        "        lower_limit = Q1 - threshold * IQR\n",
        "        upper_limit = Q3 + threshold * IQR\n",
        "\n",
        "        # Filtrar os dados dentro dos limites\n",
        "        df_cleaned = df_cleaned[(df_cleaned[column] >= lower_limit) & (df_cleaned[column] <= upper_limit)]\n",
        "\n",
        "    return df_cleaned\n"
      ],
      "metadata": {
        "id": "3YYGK-NPsUTL"
      },
      "execution_count": null,
      "outputs": []
    },
    {
      "cell_type": "code",
      "source": [
        "# Colunas que queremos verificar para outliers\n",
        "columns_to_clean = ['temperature', 'humidity', 'co2', 'tvoc']\n",
        "\n",
        "# Aplicar a função para remover outliers\n",
        "df_cleaned = remove_outliers_iqr(df, columns_to_clean)\n",
        "\n",
        "# Comparar antes e depois\n",
        "print(f\"Quantidade de registros antes da limpeza: {df.shape[0]}\")\n",
        "print(f\"Quantidade de registros depois da limpeza: {df_cleaned.shape[0]}\")\n"
      ],
      "metadata": {
        "colab": {
          "base_uri": "https://localhost:8080/"
        },
        "id": "ymKGZRBOsZkr",
        "outputId": "2dc3cebf-9bca-4d5d-fd7f-ee38f69c62d5"
      },
      "execution_count": null,
      "outputs": [
        {
          "output_type": "stream",
          "name": "stdout",
          "text": [
            "Quantidade de registros antes da limpeza: 1000\n",
            "Quantidade de registros depois da limpeza: 1000\n"
          ]
        }
      ]
    },
    {
      "cell_type": "code",
      "source": [
        "# Converter a qualidade do ar para numérico\n",
        "df['air_quality'] = df['air_quality'].map({\"Bom\": 1, \"Ruim\": 0})\n",
        "\n",
        "# Selecionar features e target\n",
        "features = ['temperature', 'humidity', 'co2', 'tvoc']\n",
        "target = 'air_quality'\n",
        "\n",
        "# Dividir em entrada (X) e saída (y)\n",
        "X = df[features]\n",
        "y = df[target]\n",
        "\n"
      ],
      "metadata": {
        "id": "-uuP5VLbQNP0"
      },
      "execution_count": null,
      "outputs": []
    },
    {
      "cell_type": "code",
      "source": [
        "# Padronizar os dados\n",
        "scaler = StandardScaler()\n",
        "X_scaled = scaler.fit_transform(X)\n",
        "\n",
        "# Redimensionar para formato 3D\n",
        "time_steps = 5\n",
        "X_scaled = np.array([X_scaled[i:i+time_steps] for i in range(len(X_scaled) - time_steps)])\n",
        "y = np.array(y[time_steps:])\n",
        "\n",
        "# Divisão em treino e teste\n",
        "X_train, X_test, y_train, y_test = train_test_split(X_scaled, y, test_size=0.2, random_state=42)\n",
        "\n",
        "# Cálculo de pesos para classes desbalanceadas\n",
        "class_weights = compute_class_weight('balanced', classes=np.unique(y_train), y=y_train)\n",
        "class_weights = dict(enumerate(class_weights))"
      ],
      "metadata": {
        "id": "znWfU-NmtwDE"
      },
      "execution_count": null,
      "outputs": []
    },
    {
      "cell_type": "code",
      "source": [
        "# Construção do modelo LSTM para Regressão/Classe\n",
        "model = Sequential()\n",
        "model.add(Input(shape=(X_train.shape[1], X_train.shape[2])))  # Usar Input(shape) para a primeira camada\n",
        "model.add(LSTM(units=64, activation='tanh', return_sequences=True))\n",
        "model.add(Dropout(0.3))  # Aumentar dropout\n",
        "model.add(LSTM(units=32, activation='tanh'))\n",
        "model.add(Dropout(0.3))\n",
        "model.add(Dense(units=32, activation='relu', kernel_regularizer='l2'))  # Adicionar regularização L2\n",
        "model.add(Dense(units=1, activation='sigmoid'))\n",
        "\n",
        "optimizer = Adam(learning_rate=0.0001)\n",
        "model.compile(optimizer=optimizer, loss='binary_crossentropy', metrics=['accuracy'])\n",
        "\n",
        "# Early stopping para evitar overfitting\n",
        "early_stopping = EarlyStopping(monitor='val_loss', patience=10, restore_best_weights=True)\n",
        "\n",
        "# Treinamento do modelo\n",
        "history = model.fit(\n",
        "    X_train, y_train,\n",
        "    epochs=50,\n",
        "    batch_size=16,\n",
        "    validation_data=(X_test, y_test),\n",
        "    class_weight=class_weights,\n",
        "    callbacks=[early_stopping],\n",
        "    verbose=1\n",
        ")\n",
        "\n"
      ],
      "metadata": {
        "colab": {
          "base_uri": "https://localhost:8080/"
        },
        "id": "kCDJsoCCQPSS",
        "outputId": "45dba563-cfc3-415b-ac54-464174a6c509"
      },
      "execution_count": null,
      "outputs": [
        {
          "output_type": "stream",
          "name": "stdout",
          "text": [
            "Epoch 1/50\n",
            "\u001b[1m50/50\u001b[0m \u001b[32m━━━━━━━━━━━━━━━━━━━━\u001b[0m\u001b[37m\u001b[0m \u001b[1m7s\u001b[0m 20ms/step - accuracy: 0.5160 - loss: 0.9763 - val_accuracy: 0.5327 - val_loss: 1.0145\n",
            "Epoch 2/50\n",
            "\u001b[1m50/50\u001b[0m \u001b[32m━━━━━━━━━━━━━━━━━━━━\u001b[0m\u001b[37m\u001b[0m \u001b[1m1s\u001b[0m 10ms/step - accuracy: 0.5342 - loss: 1.0414 - val_accuracy: 0.5176 - val_loss: 1.0008\n",
            "Epoch 3/50\n",
            "\u001b[1m50/50\u001b[0m \u001b[32m━━━━━━━━━━━━━━━━━━━━\u001b[0m\u001b[37m\u001b[0m \u001b[1m1s\u001b[0m 10ms/step - accuracy: 0.5128 - loss: 1.0266 - val_accuracy: 0.5327 - val_loss: 0.9871\n",
            "Epoch 4/50\n",
            "\u001b[1m50/50\u001b[0m \u001b[32m━━━━━━━━━━━━━━━━━━━━\u001b[0m\u001b[37m\u001b[0m \u001b[1m1s\u001b[0m 10ms/step - accuracy: 0.5459 - loss: 0.9614 - val_accuracy: 0.5377 - val_loss: 0.9736\n",
            "Epoch 5/50\n",
            "\u001b[1m50/50\u001b[0m \u001b[32m━━━━━━━━━━━━━━━━━━━━\u001b[0m\u001b[37m\u001b[0m \u001b[1m0s\u001b[0m 10ms/step - accuracy: 0.5235 - loss: 1.0216 - val_accuracy: 0.4774 - val_loss: 0.9625\n",
            "Epoch 6/50\n",
            "\u001b[1m50/50\u001b[0m \u001b[32m━━━━━━━━━━━━━━━━━━━━\u001b[0m\u001b[37m\u001b[0m \u001b[1m0s\u001b[0m 9ms/step - accuracy: 0.4895 - loss: 1.0595 - val_accuracy: 0.4874 - val_loss: 0.9508\n",
            "Epoch 7/50\n",
            "\u001b[1m50/50\u001b[0m \u001b[32m━━━━━━━━━━━━━━━━━━━━\u001b[0m\u001b[37m\u001b[0m \u001b[1m1s\u001b[0m 10ms/step - accuracy: 0.5433 - loss: 0.9517 - val_accuracy: 0.5980 - val_loss: 0.9375\n",
            "Epoch 8/50\n",
            "\u001b[1m50/50\u001b[0m \u001b[32m━━━━━━━━━━━━━━━━━━━━\u001b[0m\u001b[37m\u001b[0m \u001b[1m1s\u001b[0m 10ms/step - accuracy: 0.5602 - loss: 0.8707 - val_accuracy: 0.6030 - val_loss: 0.9255\n",
            "Epoch 9/50\n",
            "\u001b[1m50/50\u001b[0m \u001b[32m━━━━━━━━━━━━━━━━━━━━\u001b[0m\u001b[37m\u001b[0m \u001b[1m0s\u001b[0m 9ms/step - accuracy: 0.5778 - loss: 0.9222 - val_accuracy: 0.5829 - val_loss: 0.9161\n",
            "Epoch 10/50\n",
            "\u001b[1m50/50\u001b[0m \u001b[32m━━━━━━━━━━━━━━━━━━━━\u001b[0m\u001b[37m\u001b[0m \u001b[1m1s\u001b[0m 10ms/step - accuracy: 0.5389 - loss: 0.9210 - val_accuracy: 0.5678 - val_loss: 0.9057\n",
            "Epoch 11/50\n",
            "\u001b[1m50/50\u001b[0m \u001b[32m━━━━━━━━━━━━━━━━━━━━\u001b[0m\u001b[37m\u001b[0m \u001b[1m0s\u001b[0m 9ms/step - accuracy: 0.5995 - loss: 0.8235 - val_accuracy: 0.5729 - val_loss: 0.8953\n",
            "Epoch 12/50\n",
            "\u001b[1m50/50\u001b[0m \u001b[32m━━━━━━━━━━━━━━━━━━━━\u001b[0m\u001b[37m\u001b[0m \u001b[1m1s\u001b[0m 10ms/step - accuracy: 0.5148 - loss: 0.8873 - val_accuracy: 0.5678 - val_loss: 0.8859\n",
            "Epoch 13/50\n",
            "\u001b[1m50/50\u001b[0m \u001b[32m━━━━━━━━━━━━━━━━━━━━\u001b[0m\u001b[37m\u001b[0m \u001b[1m1s\u001b[0m 9ms/step - accuracy: 0.5704 - loss: 0.8720 - val_accuracy: 0.5628 - val_loss: 0.8772\n",
            "Epoch 14/50\n",
            "\u001b[1m50/50\u001b[0m \u001b[32m━━━━━━━━━━━━━━━━━━━━\u001b[0m\u001b[37m\u001b[0m \u001b[1m1s\u001b[0m 10ms/step - accuracy: 0.5319 - loss: 0.9405 - val_accuracy: 0.5427 - val_loss: 0.8700\n",
            "Epoch 15/50\n",
            "\u001b[1m50/50\u001b[0m \u001b[32m━━━━━━━━━━━━━━━━━━━━\u001b[0m\u001b[37m\u001b[0m \u001b[1m1s\u001b[0m 13ms/step - accuracy: 0.5413 - loss: 0.9011 - val_accuracy: 0.5578 - val_loss: 0.8615\n",
            "Epoch 16/50\n",
            "\u001b[1m50/50\u001b[0m \u001b[32m━━━━━━━━━━━━━━━━━━━━\u001b[0m\u001b[37m\u001b[0m \u001b[1m1s\u001b[0m 14ms/step - accuracy: 0.5254 - loss: 0.8508 - val_accuracy: 0.5628 - val_loss: 0.8522\n",
            "Epoch 17/50\n",
            "\u001b[1m50/50\u001b[0m \u001b[32m━━━━━━━━━━━━━━━━━━━━\u001b[0m\u001b[37m\u001b[0m \u001b[1m1s\u001b[0m 14ms/step - accuracy: 0.5714 - loss: 0.8791 - val_accuracy: 0.5628 - val_loss: 0.8444\n",
            "Epoch 18/50\n",
            "\u001b[1m50/50\u001b[0m \u001b[32m━━━━━━━━━━━━━━━━━━━━\u001b[0m\u001b[37m\u001b[0m \u001b[1m1s\u001b[0m 15ms/step - accuracy: 0.5740 - loss: 0.8320 - val_accuracy: 0.5729 - val_loss: 0.8358\n",
            "Epoch 19/50\n",
            "\u001b[1m50/50\u001b[0m \u001b[32m━━━━━━━━━━━━━━━━━━━━\u001b[0m\u001b[37m\u001b[0m \u001b[1m1s\u001b[0m 10ms/step - accuracy: 0.5599 - loss: 0.8520 - val_accuracy: 0.5678 - val_loss: 0.8285\n",
            "Epoch 20/50\n",
            "\u001b[1m50/50\u001b[0m \u001b[32m━━━━━━━━━━━━━━━━━━━━\u001b[0m\u001b[37m\u001b[0m \u001b[1m1s\u001b[0m 10ms/step - accuracy: 0.5573 - loss: 0.8020 - val_accuracy: 0.5729 - val_loss: 0.8217\n",
            "Epoch 21/50\n",
            "\u001b[1m50/50\u001b[0m \u001b[32m━━━━━━━━━━━━━━━━━━━━\u001b[0m\u001b[37m\u001b[0m \u001b[1m1s\u001b[0m 10ms/step - accuracy: 0.6065 - loss: 0.8364 - val_accuracy: 0.5729 - val_loss: 0.8154\n",
            "Epoch 22/50\n",
            "\u001b[1m50/50\u001b[0m \u001b[32m━━━━━━━━━━━━━━━━━━━━\u001b[0m\u001b[37m\u001b[0m \u001b[1m1s\u001b[0m 10ms/step - accuracy: 0.5507 - loss: 0.7629 - val_accuracy: 0.5779 - val_loss: 0.8096\n",
            "Epoch 23/50\n",
            "\u001b[1m50/50\u001b[0m \u001b[32m━━━━━━━━━━━━━━━━━━━━\u001b[0m\u001b[37m\u001b[0m \u001b[1m1s\u001b[0m 9ms/step - accuracy: 0.5661 - loss: 0.8100 - val_accuracy: 0.5729 - val_loss: 0.8041\n",
            "Epoch 24/50\n",
            "\u001b[1m50/50\u001b[0m \u001b[32m━━━━━━━━━━━━━━━━━━━━\u001b[0m\u001b[37m\u001b[0m \u001b[1m1s\u001b[0m 11ms/step - accuracy: 0.5752 - loss: 0.7964 - val_accuracy: 0.5879 - val_loss: 0.7972\n",
            "Epoch 25/50\n",
            "\u001b[1m50/50\u001b[0m \u001b[32m━━━━━━━━━━━━━━━━━━━━\u001b[0m\u001b[37m\u001b[0m \u001b[1m1s\u001b[0m 9ms/step - accuracy: 0.5664 - loss: 0.7202 - val_accuracy: 0.5980 - val_loss: 0.7904\n",
            "Epoch 26/50\n",
            "\u001b[1m50/50\u001b[0m \u001b[32m━━━━━━━━━━━━━━━━━━━━\u001b[0m\u001b[37m\u001b[0m \u001b[1m1s\u001b[0m 10ms/step - accuracy: 0.5418 - loss: 0.7604 - val_accuracy: 0.5980 - val_loss: 0.7867\n",
            "Epoch 27/50\n",
            "\u001b[1m50/50\u001b[0m \u001b[32m━━━━━━━━━━━━━━━━━━━━\u001b[0m\u001b[37m\u001b[0m \u001b[1m1s\u001b[0m 10ms/step - accuracy: 0.5529 - loss: 0.8349 - val_accuracy: 0.5930 - val_loss: 0.7810\n",
            "Epoch 28/50\n",
            "\u001b[1m50/50\u001b[0m \u001b[32m━━━━━━━━━━━━━━━━━━━━\u001b[0m\u001b[37m\u001b[0m \u001b[1m0s\u001b[0m 9ms/step - accuracy: 0.5495 - loss: 0.8294 - val_accuracy: 0.5879 - val_loss: 0.7765\n",
            "Epoch 29/50\n",
            "\u001b[1m50/50\u001b[0m \u001b[32m━━━━━━━━━━━━━━━━━━━━\u001b[0m\u001b[37m\u001b[0m \u001b[1m1s\u001b[0m 10ms/step - accuracy: 0.5640 - loss: 0.7439 - val_accuracy: 0.5930 - val_loss: 0.7704\n",
            "Epoch 30/50\n",
            "\u001b[1m50/50\u001b[0m \u001b[32m━━━━━━━━━━━━━━━━━━━━\u001b[0m\u001b[37m\u001b[0m \u001b[1m0s\u001b[0m 9ms/step - accuracy: 0.5559 - loss: 0.8101 - val_accuracy: 0.5879 - val_loss: 0.7665\n",
            "Epoch 31/50\n",
            "\u001b[1m50/50\u001b[0m \u001b[32m━━━━━━━━━━━━━━━━━━━━\u001b[0m\u001b[37m\u001b[0m \u001b[1m1s\u001b[0m 10ms/step - accuracy: 0.5805 - loss: 0.7330 - val_accuracy: 0.5930 - val_loss: 0.7607\n",
            "Epoch 32/50\n",
            "\u001b[1m50/50\u001b[0m \u001b[32m━━━━━━━━━━━━━━━━━━━━\u001b[0m\u001b[37m\u001b[0m \u001b[1m1s\u001b[0m 10ms/step - accuracy: 0.5909 - loss: 0.7406 - val_accuracy: 0.5930 - val_loss: 0.7560\n",
            "Epoch 33/50\n",
            "\u001b[1m50/50\u001b[0m \u001b[32m━━━━━━━━━━━━━━━━━━━━\u001b[0m\u001b[37m\u001b[0m \u001b[1m1s\u001b[0m 10ms/step - accuracy: 0.6137 - loss: 0.7140 - val_accuracy: 0.5980 - val_loss: 0.7521\n",
            "Epoch 34/50\n",
            "\u001b[1m50/50\u001b[0m \u001b[32m━━━━━━━━━━━━━━━━━━━━\u001b[0m\u001b[37m\u001b[0m \u001b[1m1s\u001b[0m 9ms/step - accuracy: 0.5654 - loss: 0.7130 - val_accuracy: 0.5829 - val_loss: 0.7496\n",
            "Epoch 35/50\n",
            "\u001b[1m50/50\u001b[0m \u001b[32m━━━━━━━━━━━━━━━━━━━━\u001b[0m\u001b[37m\u001b[0m \u001b[1m1s\u001b[0m 10ms/step - accuracy: 0.5713 - loss: 0.7603 - val_accuracy: 0.6030 - val_loss: 0.7440\n",
            "Epoch 36/50\n",
            "\u001b[1m50/50\u001b[0m \u001b[32m━━━━━━━━━━━━━━━━━━━━\u001b[0m\u001b[37m\u001b[0m \u001b[1m1s\u001b[0m 14ms/step - accuracy: 0.6186 - loss: 0.7424 - val_accuracy: 0.5879 - val_loss: 0.7412\n",
            "Epoch 37/50\n",
            "\u001b[1m50/50\u001b[0m \u001b[32m━━━━━━━━━━━━━━━━━━━━\u001b[0m\u001b[37m\u001b[0m \u001b[1m1s\u001b[0m 15ms/step - accuracy: 0.5906 - loss: 0.7564 - val_accuracy: 0.5930 - val_loss: 0.7372\n",
            "Epoch 38/50\n",
            "\u001b[1m50/50\u001b[0m \u001b[32m━━━━━━━━━━━━━━━━━━━━\u001b[0m\u001b[37m\u001b[0m \u001b[1m1s\u001b[0m 15ms/step - accuracy: 0.5879 - loss: 0.7431 - val_accuracy: 0.6131 - val_loss: 0.7325\n",
            "Epoch 39/50\n",
            "\u001b[1m50/50\u001b[0m \u001b[32m━━━━━━━━━━━━━━━━━━━━\u001b[0m\u001b[37m\u001b[0m \u001b[1m1s\u001b[0m 10ms/step - accuracy: 0.5591 - loss: 0.7426 - val_accuracy: 0.6131 - val_loss: 0.7289\n",
            "Epoch 40/50\n",
            "\u001b[1m50/50\u001b[0m \u001b[32m━━━━━━━━━━━━━━━━━━━━\u001b[0m\u001b[37m\u001b[0m \u001b[1m1s\u001b[0m 10ms/step - accuracy: 0.5853 - loss: 0.7208 - val_accuracy: 0.6080 - val_loss: 0.7257\n",
            "Epoch 41/50\n",
            "\u001b[1m50/50\u001b[0m \u001b[32m━━━━━━━━━━━━━━━━━━━━\u001b[0m\u001b[37m\u001b[0m \u001b[1m1s\u001b[0m 9ms/step - accuracy: 0.5853 - loss: 0.6942 - val_accuracy: 0.6080 - val_loss: 0.7218\n",
            "Epoch 42/50\n",
            "\u001b[1m50/50\u001b[0m \u001b[32m━━━━━━━━━━━━━━━━━━━━\u001b[0m\u001b[37m\u001b[0m \u001b[1m1s\u001b[0m 10ms/step - accuracy: 0.5846 - loss: 0.7297 - val_accuracy: 0.6080 - val_loss: 0.7182\n",
            "Epoch 43/50\n",
            "\u001b[1m50/50\u001b[0m \u001b[32m━━━━━━━━━━━━━━━━━━━━\u001b[0m\u001b[37m\u001b[0m \u001b[1m1s\u001b[0m 10ms/step - accuracy: 0.5761 - loss: 0.7208 - val_accuracy: 0.6080 - val_loss: 0.7153\n",
            "Epoch 44/50\n",
            "\u001b[1m50/50\u001b[0m \u001b[32m━━━━━━━━━━━━━━━━━━━━\u001b[0m\u001b[37m\u001b[0m \u001b[1m1s\u001b[0m 10ms/step - accuracy: 0.5499 - loss: 0.7057 - val_accuracy: 0.6080 - val_loss: 0.7127\n",
            "Epoch 45/50\n",
            "\u001b[1m50/50\u001b[0m \u001b[32m━━━━━━━━━━━━━━━━━━━━\u001b[0m\u001b[37m\u001b[0m \u001b[1m1s\u001b[0m 10ms/step - accuracy: 0.6291 - loss: 0.7551 - val_accuracy: 0.6080 - val_loss: 0.7092\n",
            "Epoch 46/50\n",
            "\u001b[1m50/50\u001b[0m \u001b[32m━━━━━━━━━━━━━━━━━━━━\u001b[0m\u001b[37m\u001b[0m \u001b[1m1s\u001b[0m 9ms/step - accuracy: 0.5830 - loss: 0.7079 - val_accuracy: 0.6181 - val_loss: 0.7048\n",
            "Epoch 47/50\n",
            "\u001b[1m50/50\u001b[0m \u001b[32m━━━━━━━━━━━━━━━━━━━━\u001b[0m\u001b[37m\u001b[0m \u001b[1m1s\u001b[0m 10ms/step - accuracy: 0.5823 - loss: 0.6905 - val_accuracy: 0.6181 - val_loss: 0.7018\n",
            "Epoch 48/50\n",
            "\u001b[1m50/50\u001b[0m \u001b[32m━━━━━━━━━━━━━━━━━━━━\u001b[0m\u001b[37m\u001b[0m \u001b[1m1s\u001b[0m 10ms/step - accuracy: 0.5845 - loss: 0.7238 - val_accuracy: 0.6181 - val_loss: 0.6999\n",
            "Epoch 49/50\n",
            "\u001b[1m50/50\u001b[0m \u001b[32m━━━━━━━━━━━━━━━━━━━━\u001b[0m\u001b[37m\u001b[0m \u001b[1m1s\u001b[0m 19ms/step - accuracy: 0.5947 - loss: 0.7518 - val_accuracy: 0.6131 - val_loss: 0.6995\n",
            "Epoch 50/50\n",
            "\u001b[1m50/50\u001b[0m \u001b[32m━━━━━━━━━━━━━━━━━━━━\u001b[0m\u001b[37m\u001b[0m \u001b[1m1s\u001b[0m 19ms/step - accuracy: 0.6116 - loss: 0.7166 - val_accuracy: 0.6231 - val_loss: 0.6936\n"
          ]
        }
      ]
    },
    {
      "cell_type": "code",
      "source": [
        "# Avaliação\n",
        "loss, accuracy = model.evaluate(X_test, y_test, verbose=1)\n",
        "print(f\"Loss: {loss}\")\n",
        "print(f\"Accuracy: {accuracy}\")\n",
        "\n",
        "# Curvas de aprendizado\n",
        "plt.plot(history.history['accuracy'], label='Acurácia de Treinamento')\n",
        "plt.plot(history.history['val_accuracy'], label='Acurácia de Validação')\n",
        "plt.xlabel('Épocas')\n",
        "plt.ylabel('Acurácia')\n",
        "plt.legend()\n",
        "plt.show()\n",
        "\n",
        "# Matriz de confusão\n",
        "y_pred = (model.predict(X_test) > 0.5).astype(\"int32\")\n",
        "cm = confusion_matrix(y_test, y_pred)\n",
        "\n",
        "sns.heatmap(cm, annot=True, fmt='d', cmap='Blues')\n",
        "plt.title('Matriz de Confusão')\n",
        "plt.xlabel('Previsto')\n",
        "plt.ylabel('Real')\n",
        "plt.show()\n",
        "\n",
        "# Relatório de classificação\n",
        "print(classification_report(y_test, y_pred))\n",
        "print(f\"AUC-ROC: {roc_auc_score(y_test, y_pred):.4f}\")\n"
      ],
      "metadata": {
        "colab": {
          "base_uri": "https://localhost:8080/",
          "height": 1000
        },
        "id": "RW4RJsiFq9z_",
        "outputId": "4a9eeb94-9ec1-4ceb-d979-4625c465502d"
      },
      "execution_count": null,
      "outputs": [
        {
          "output_type": "stream",
          "name": "stdout",
          "text": [
            "\u001b[1m7/7\u001b[0m \u001b[32m━━━━━━━━━━━━━━━━━━━━\u001b[0m\u001b[37m\u001b[0m \u001b[1m0s\u001b[0m 6ms/step - accuracy: 0.6046 - loss: 0.7035 \n",
            "Loss: 0.693646252155304\n",
            "Accuracy: 0.623115599155426\n"
          ]
        },
        {
          "output_type": "display_data",
          "data": {
            "text/plain": [
              "<Figure size 640x480 with 1 Axes>"
            ],
            "image/png": "[encoded data removed]"
          },
          "metadata": {}
        },
        {
          "output_type": "stream",
          "name": "stdout",
          "text": [
            "\u001b[1m7/7\u001b[0m \u001b[32m━━━━━━━━━━━━━━━━━━━━\u001b[0m\u001b[37m\u001b[0m \u001b[1m2s\u001b[0m 195ms/step\n"
          ]
        },
        {
          "output_type": "display_data",
          "data": {
            "text/plain": [
              "<Figure size 640x480 with 2 Axes>"
            ],
            "image/png": "[encoded data removed]"
          },
          "metadata": {}
        },
        {
          "output_type": "stream",
          "name": "stdout",
          "text": [
            "              precision    recall  f1-score   support\n",
            "\n",
            "           0       0.15      0.44      0.23        25\n",
            "           1       0.89      0.65      0.75       174\n",
            "\n",
            "    accuracy                           0.62       199\n",
            "   macro avg       0.52      0.54      0.49       199\n",
            "weighted avg       0.80      0.62      0.68       199\n",
            "\n",
            "AUC-ROC: 0.5447\n"
          ]
        }
      ]
    }
  ]
}